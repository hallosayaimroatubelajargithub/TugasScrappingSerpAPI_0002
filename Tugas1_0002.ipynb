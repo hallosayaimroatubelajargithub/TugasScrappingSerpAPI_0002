{
  "nbformat": 4,
  "nbformat_minor": 0,
  "metadata": {
    "colab": {
      "provenance": []
    },
    "kernelspec": {
      "name": "python3",
      "display_name": "Python 3"
    },
    "language_info": {
      "name": "python"
    }
  },
  "cells": [
    {
      "cell_type": "code",
      "execution_count": null,
      "metadata": {
        "id": "5Fcban9QkHn0"
      },
      "outputs": [],
      "source": [
        "# 1. Cari banyak lokasi (local_results)\n",
        "# 2. Pilih lokasi yang jumlah reviews terbanyak (results)\n",
        "# 3. Directory (for i in range)"
      ]
    },
    {
      "cell_type": "code",
      "source": [
        "!pip install google-search-results\n",
        "# run this first"
      ],
      "metadata": {
        "id": "80wFgrNokPkw"
      },
      "execution_count": null,
      "outputs": []
    },
    {
      "cell_type": "code",
      "source": [
        "from serpapi import GoogleSearch\n",
        "\n",
        "params = {\n",
        "  \"engine\": \"google_maps\",\n",
        "  \"q\": \"kfc\",\n",
        "  \"ll\": \"@-6.9851064,110.3880387,13z\",\n",
        "  \"type\": \"search\",\n",
        "  \"api_key\": \"5460b786c9ae92f5510fc27b3d0d43b3aa968a4e65975af2afa7a1864b165bdd\"\n",
        "}\n",
        "\n",
        "search = GoogleSearch(params)\n",
        "results = search.get_dict()\n",
        "local_results = results[\"local_results\"]"
      ],
      "metadata": {
        "id": "1JqBifdkkhUI"
      },
      "execution_count": null,
      "outputs": []
    },
    {
      "cell_type": "code",
      "source": [
        "local_results"
      ],
      "metadata": {
        "id": "F25cYQyvlBFb"
      },
      "execution_count": null,
      "outputs": []
    },
    {
      "cell_type": "code",
      "source": [
        "# Position 1\n",
        "from serpapi import GoogleSearch\n",
        "\n",
        "params = {\n",
        "  \"engine\": \"google_maps_reviews\",\n",
        "  \"data_id\": \"0x2e708b594259288f:0x7628e0c4d9166b8d\",\n",
        "  \"api_key\": \"5351c15ff45f00bb42e17b23fefc50864ee3fa3375f3745ec0c8e316acf63cfe\"\n",
        "}\n",
        "\n",
        "search = GoogleSearch(params)\n",
        "results = search.get_dict()\n",
        "reviews = results[\"reviews\"]"
      ],
      "metadata": {
        "id": "YAYNQ9d6mPcK"
      },
      "execution_count": null,
      "outputs": []
    },
    {
      "cell_type": "code",
      "source": [
        "results"
      ],
      "metadata": {
        "id": "ZwGVSDiMmilM"
      },
      "execution_count": null,
      "outputs": []
    },
    {
      "cell_type": "code",
      "source": [
        "for i in range(10):\n",
        "  rating = results [\"reviews\"][i][\"rating\"]\n",
        "  print(rating)\n",
        "  reviews = results [\"reviews\"][i][\"snippet\"]\n",
        "  print(reviews)"
      ],
      "metadata": {
        "id": "rNv1tZCFmpJo"
      },
      "execution_count": null,
      "outputs": []
    },
    {
      "cell_type": "code",
      "source": [
        "# Position 2\n",
        "from serpapi import GoogleSearch\n",
        "\n",
        "params = {\n",
        "  \"engine\": \"google_maps_reviews\",\n",
        "  \"data_id\": \"0x2e708bd0281c4387:0xcd02289bf4101d01\",\n",
        "  \"api_key\": \"5351c15ff45f00bb42e17b23fefc50864ee3fa3375f3745ec0c8e316acf63cfe\"\n",
        "}\n",
        "\n",
        "search = GoogleSearch(params)\n",
        "results = search.get_dict()\n",
        "reviews = results[\"reviews\"]"
      ],
      "metadata": {
        "id": "QGWzKWnmm2je"
      },
      "execution_count": null,
      "outputs": []
    },
    {
      "cell_type": "code",
      "source": [
        "results"
      ],
      "metadata": {
        "id": "QHI9MN2GnMkO"
      },
      "execution_count": null,
      "outputs": []
    },
    {
      "cell_type": "code",
      "source": [
        "for i in range(10):\n",
        "  rating = results [\"reviews\"][i][\"rating\"]\n",
        "  print(rating)\n",
        "  reviews = results [\"reviews\"][i][\"snippet\"]\n",
        "  print(reviews)"
      ],
      "metadata": {
        "id": "kiZpR2cGnXeP"
      },
      "execution_count": null,
      "outputs": []
    },
    {
      "cell_type": "code",
      "source": [
        "# Position 3\n",
        "from serpapi import GoogleSearch\n",
        "\n",
        "params = {\n",
        "  \"engine\": \"google_maps_reviews\",\n",
        "  \"data_id\": \"0x2e708b65ae4e85a1:0xdcaa61246889ec7a\",\n",
        "  \"api_key\": \"5351c15ff45f00bb42e17b23fefc50864ee3fa3375f3745ec0c8e316acf63cfe\"\n",
        "}\n",
        "\n",
        "search = GoogleSearch(params)\n",
        "results = search.get_dict()\n",
        "reviews = results[\"reviews\"]"
      ],
      "metadata": {
        "id": "Sg9-1TU9ol3f"
      },
      "execution_count": null,
      "outputs": []
    },
    {
      "cell_type": "code",
      "source": [
        "results"
      ],
      "metadata": {
        "id": "0G_PDjV9o4v-"
      },
      "execution_count": null,
      "outputs": []
    },
    {
      "cell_type": "code",
      "source": [
        "for i in range(10):\n",
        "  rating = results [\"reviews\"][i][\"rating\"]\n",
        "  print(rating)\n",
        "  reviews = results [\"reviews\"][i][\"snippet\"]\n",
        "  print(reviews)"
      ],
      "metadata": {
        "id": "YryKrSywpPAR"
      },
      "execution_count": null,
      "outputs": []
    },
    {
      "cell_type": "code",
      "source": [
        "# Position 4\n",
        "from serpapi import GoogleSearch\n",
        "\n",
        "params = {\n",
        "  \"engine\": \"google_maps_reviews\",\n",
        "  \"data_id\": \"0x2e70c4ebfd539159:0x74ce572a8380068a\",\n",
        "  \"api_key\": \"5351c15ff45f00bb42e17b23fefc50864ee3fa3375f3745ec0c8e316acf63cfe\"\n",
        "}\n",
        "\n",
        "search = GoogleSearch(params)\n",
        "results = search.get_dict()\n",
        "reviews = results[\"reviews\"]"
      ],
      "metadata": {
        "id": "Rb4m_So9qF5e",
        "colab": {
          "base_uri": "https://localhost:8080/"
        },
        "outputId": "364bf77f-adbd-4f95-f6d5-cc113f7f5518"
      },
      "execution_count": null,
      "outputs": [
        {
          "output_type": "stream",
          "name": "stdout",
          "text": [
            "https://serpapi.com/search\n"
          ]
        }
      ]
    },
    {
      "cell_type": "code",
      "source": [
        "results"
      ],
      "metadata": {
        "id": "GDAhIGM-qXRP"
      },
      "execution_count": null,
      "outputs": []
    },
    {
      "cell_type": "code",
      "source": [
        "for i in range(10):\n",
        "  rating = results [\"reviews\"][i][\"rating\"]\n",
        "  print(rating)\n",
        "  reviews = results [\"reviews\"][i][\"snippet\"]\n",
        "  print(reviews)"
      ],
      "metadata": {
        "id": "AeaXzrm5qb6z"
      },
      "execution_count": null,
      "outputs": []
    },
    {
      "cell_type": "code",
      "source": [
        "# Position 5\n",
        "from serpapi import GoogleSearch\n",
        "\n",
        "params = {\n",
        "  \"engine\": \"google_maps_reviews\",\n",
        "  \"data_id\": \"0x2e708c7e90697da9:0x5538631cdb54c326\",\n",
        "  \"api_key\": \"5351c15ff45f00bb42e17b23fefc50864ee3fa3375f3745ec0c8e316acf63cfe\"\n",
        "}\n",
        "\n",
        "search = GoogleSearch(params)\n",
        "results = search.get_dict()\n",
        "reviews = results[\"reviews\"]"
      ],
      "metadata": {
        "id": "8AW0oYjQqiWZ"
      },
      "execution_count": null,
      "outputs": []
    },
    {
      "cell_type": "code",
      "source": [
        "results"
      ],
      "metadata": {
        "id": "MomBZGCcqumj"
      },
      "execution_count": null,
      "outputs": []
    },
    {
      "cell_type": "code",
      "source": [
        "for i in range(10):\n",
        "  rating = results [\"reviews\"][i][\"rating\"]\n",
        "  print(rating)\n",
        "  reviews = results [\"reviews\"][i][\"snippet\"]\n",
        "  print(reviews)"
      ],
      "metadata": {
        "id": "N3cmWCcGqxMy"
      },
      "execution_count": null,
      "outputs": []
    },
    {
      "cell_type": "code",
      "source": [
        "# Position 6\n",
        "from serpapi import GoogleSearch\n",
        "\n",
        "params = {\n",
        "  \"engine\": \"google_maps_reviews\",\n",
        "  \"data_id\": \"0x2e7089737ec7b9cd:0xfb3f870cbb13e15b\",\n",
        "  \"api_key\": \"5351c15ff45f00bb42e17b23fefc50864ee3fa3375f3745ec0c8e316acf63cfe\"\n",
        "}\n",
        "\n",
        "search = GoogleSearch(params)\n",
        "results = search.get_dict()\n",
        "reviews = results[\"reviews\"]"
      ],
      "metadata": {
        "id": "TdzXzbAlrFWC"
      },
      "execution_count": null,
      "outputs": []
    },
    {
      "cell_type": "code",
      "source": [
        "results"
      ],
      "metadata": {
        "id": "HWYgzAoGrXOf"
      },
      "execution_count": null,
      "outputs": []
    },
    {
      "cell_type": "code",
      "source": [
        "for i in range(10):\n",
        "  rating = results [\"reviews\"][i][\"rating\"]\n",
        "  print(rating)\n",
        "  reviews = results [\"reviews\"][i][\"snippet\"]\n",
        "  print(reviews)"
      ],
      "metadata": {
        "id": "09FqCcZQraHm"
      },
      "execution_count": null,
      "outputs": []
    },
    {
      "cell_type": "code",
      "source": [
        "# Position 7\n",
        "from serpapi import GoogleSearch\n",
        "\n",
        "params = {\n",
        "  \"engine\": \"google_maps_reviews\",\n",
        "  \"data_id\": \"0x2e708bfd202e4f59:0xc769ce2bccb99956\",\n",
        "  \"api_key\": \"5351c15ff45f00bb42e17b23fefc50864ee3fa3375f3745ec0c8e316acf63cfe\"\n",
        "}\n",
        "\n",
        "search = GoogleSearch(params)\n",
        "results = search.get_dict()\n",
        "reviews = results[\"reviews\"]"
      ],
      "metadata": {
        "id": "iNhJJBVXr8EB"
      },
      "execution_count": null,
      "outputs": []
    },
    {
      "cell_type": "code",
      "source": [
        "results"
      ],
      "metadata": {
        "id": "dyyUn4CksjB-"
      },
      "execution_count": null,
      "outputs": []
    },
    {
      "cell_type": "code",
      "source": [
        "for i in range(10):\n",
        "  rating = results [\"reviews\"][i][\"rating\"]\n",
        "  print(rating)\n",
        "  reviews = results [\"reviews\"][i][\"snippet\"]\n",
        "  print(reviews)"
      ],
      "metadata": {
        "id": "FlA-cC2lsmGT"
      },
      "execution_count": null,
      "outputs": []
    },
    {
      "cell_type": "code",
      "source": [
        "# Position 8\n",
        "from serpapi import GoogleSearch\n",
        "\n",
        "params = {\n",
        "  \"engine\": \"google_maps_reviews\",\n",
        "  \"data_id\": \"0x2e708b58fad4a489:0xa1949c7946722c3\",\n",
        "  \"api_key\": \"5351c15ff45f00bb42e17b23fefc50864ee3fa3375f3745ec0c8e316acf63cfe\"\n",
        "}\n",
        "\n",
        "search = GoogleSearch(params)\n",
        "results = search.get_dict()\n",
        "reviews = results[\"reviews\"]"
      ],
      "metadata": {
        "id": "_0rdfxMGsvPx",
        "colab": {
          "base_uri": "https://localhost:8080/"
        },
        "outputId": "960aef7f-5c86-41ab-d7c0-9972351512db"
      },
      "execution_count": null,
      "outputs": [
        {
          "output_type": "stream",
          "name": "stdout",
          "text": [
            "https://serpapi.com/search\n"
          ]
        }
      ]
    },
    {
      "cell_type": "code",
      "source": [
        "results"
      ],
      "metadata": {
        "id": "6YdqH7PUtAFl"
      },
      "execution_count": null,
      "outputs": []
    },
    {
      "cell_type": "code",
      "source": [
        "for i in range(10):\n",
        "  rating = results [\"reviews\"][i][\"rating\"]\n",
        "  print(rating)\n",
        "  reviews = results [\"reviews\"][i][\"snippet\"]\n",
        "  print(reviews)"
      ],
      "metadata": {
        "id": "1f5Np4Y2tDHP"
      },
      "execution_count": null,
      "outputs": []
    },
    {
      "cell_type": "code",
      "source": [
        "# Position 9\n",
        "from serpapi import GoogleSearch\n",
        "\n",
        "params = {\n",
        "  \"engine\": \"google_maps_reviews\",\n",
        "  \"data_id\": \"0x2e708b3a96b2fcdb:0xa0f0e8f6693a5364\",\n",
        "  \"api_key\": \"5351c15ff45f00bb42e17b23fefc50864ee3fa3375f3745ec0c8e316acf63cfe\"\n",
        "}\n",
        "\n",
        "search = GoogleSearch(params)\n",
        "results = search.get_dict()\n",
        "reviews = results[\"reviews\"]"
      ],
      "metadata": {
        "id": "jwQUEsq2tGzi",
        "colab": {
          "base_uri": "https://localhost:8080/"
        },
        "outputId": "146614eb-ed48-43da-d22e-25466f600d97"
      },
      "execution_count": null,
      "outputs": [
        {
          "output_type": "stream",
          "name": "stdout",
          "text": [
            "https://serpapi.com/search\n"
          ]
        }
      ]
    },
    {
      "cell_type": "code",
      "source": [
        "results"
      ],
      "metadata": {
        "id": "fJaO883eteCJ"
      },
      "execution_count": null,
      "outputs": []
    },
    {
      "cell_type": "code",
      "source": [
        "for i in range(10):\n",
        "  rating = results [\"reviews\"][i][\"rating\"]\n",
        "  print(rating)\n",
        "  reviews = results [\"reviews\"][i][\"snippet\"]\n",
        "  print(reviews)"
      ],
      "metadata": {
        "id": "gV3HHQqbtkWq"
      },
      "execution_count": null,
      "outputs": []
    },
    {
      "cell_type": "code",
      "source": [
        "# Position 10\n",
        "from serpapi import GoogleSearch\n",
        "\n",
        "params = {\n",
        "  \"engine\": \"google_maps_reviews\",\n",
        "  \"data_id\": \"0x2e708c8600a18065:0x972f089b327f822\",\n",
        "  \"api_key\": \"5351c15ff45f00bb42e17b23fefc50864ee3fa3375f3745ec0c8e316acf63cfe\"\n",
        "}\n",
        "\n",
        "search = GoogleSearch(params)\n",
        "results = search.get_dict()\n",
        "reviews = results[\"reviews\"]"
      ],
      "metadata": {
        "id": "ADDSIQQ1vl9q"
      },
      "execution_count": null,
      "outputs": []
    },
    {
      "cell_type": "code",
      "source": [
        "results"
      ],
      "metadata": {
        "id": "MCugEkWuvwzP"
      },
      "execution_count": null,
      "outputs": []
    },
    {
      "cell_type": "code",
      "source": [
        "for i in range(10):\n",
        "  rating = results [\"reviews\"][i][\"rating\"]\n",
        "  print(rating)\n",
        "  reviews = results [\"reviews\"][i][\"snippet\"]\n",
        "  print(reviews)"
      ],
      "metadata": {
        "id": "s58ByI_G5kKS"
      },
      "execution_count": null,
      "outputs": []
    },
    {
      "cell_type": "code",
      "source": [
        "## ----- CASE FOLDING ----- ##"
      ],
      "metadata": {
        "id": "138pLHPs9Q86"
      },
      "execution_count": null,
      "outputs": []
    },
    {
      "cell_type": "code",
      "source": [
        "# 1. Mengubah text menjadi lowercase\n",
        "kalimat = \"3.0 Everyone knows pizza hut since it was one among the first pizza restaurants in Indonesia. I personally rate this place as a standard pizza hut restaurant. The plus point is the place is quite comfy, with large parking lot and good service. The food is good but for me who prefer Italian to American pizza, it’s actually not my best option. But it’s the taste of pizza hut as you already know. I want to also note that when I ordered dessert they seem to give me frozen strawberry which tasted old, not fresh anymore. Sp I hope this is not what they usually serve. This place is also located in a strategic area. However I cannot find an access for disable, you need to go upstairs to reach the restaurant. I don’t see any elevator either. The waiting time is quite long, which I don’t expect from a pizza place which looks like a fast food restaurant to me. As for the drinks, overall, I think they’re just overpriced.\"\n",
        "lower_case = kalimat.lower()\n",
        "print(lower_case)"
      ],
      "metadata": {
        "id": "F9FCOmEd9il2"
      },
      "execution_count": null,
      "outputs": []
    },
    {
      "cell_type": "code",
      "source": [
        "## ----- TOKENIZING ----- ##"
      ],
      "metadata": {
        "id": "Fxk7_PL4-EKg"
      },
      "execution_count": null,
      "outputs": []
    },
    {
      "cell_type": "code",
      "source": [
        "import nltk\n",
        "nltk.download('book')\n",
        "#or\n",
        "nltk.download('tests')\n",
        "#or\n",
        "nltk.download('all-corpora')# not recommended as it download huge amount of data."
      ],
      "metadata": {
        "id": "DT9RsoIw-186"
      },
      "execution_count": null,
      "outputs": []
    },
    {
      "cell_type": "code",
      "source": [
        "# impor word_tokenize dari modul nltk\n",
        "from nltk.tokenize import sent_tokenize, word_tokenize \n",
        "kalimat = \"One of the best pizza hut chain in semarang, they have a big parking lot & easy access.\"\n",
        "kalimat= kalimat+\" The food itself are the same like what you expect from pizza hut.\"\n",
        "tokens = word_tokenize(kalimat)\n",
        "print(tokens)"
      ],
      "metadata": {
        "id": "SO7GHsiY_TJM",
        "colab": {
          "base_uri": "https://localhost:8080/"
        },
        "outputId": "30ae3bfe-c3c9-42c7-d180-585ef6dcf8d0"
      },
      "execution_count": null,
      "outputs": [
        {
          "output_type": "stream",
          "name": "stdout",
          "text": [
            "['One', 'of', 'the', 'best', 'pizza', 'hut', 'chain', 'in', 'semarang', ',', 'they', 'have', 'a', 'big', 'parking', 'lot', '&', 'easy', 'access', '.', 'The', 'food', 'itself', 'are', 'the', 'same', 'like', 'what', 'you', 'expect', 'from', 'pizza', 'hut', '.']\n"
          ]
        }
      ]
    },
    {
      "cell_type": "code",
      "source": [
        "## ----- STOPWORD REMOVAL ----- ##"
      ],
      "metadata": {
        "id": "ZER789ny_gB7"
      },
      "execution_count": null,
      "outputs": []
    },
    {
      "cell_type": "code",
      "source": [
        "# Menggunakan Sastrawati\n",
        "!pip install Sastrawi\n",
        "# Library Untuk Stramming/Strammer Bahasa Indonesia"
      ],
      "metadata": {
        "id": "SdqSpgSsFFmB",
        "colab": {
          "base_uri": "https://localhost:8080/"
        },
        "outputId": "7e919555-9525-484b-bc0a-5cc442e2d76d"
      },
      "execution_count": null,
      "outputs": [
        {
          "output_type": "stream",
          "name": "stdout",
          "text": [
            "Looking in indexes: https://pypi.org/simple, https://us-python.pkg.dev/colab-wheels/public/simple/\n",
            "Collecting Sastrawi\n",
            "  Downloading Sastrawi-1.0.1-py2.py3-none-any.whl (209 kB)\n",
            "\u001b[K     |████████████████████████████████| 209 kB 8.5 MB/s \n",
            "\u001b[?25hInstalling collected packages: Sastrawi\n",
            "Successfully installed Sastrawi-1.0.1\n"
          ]
        }
      ]
    },
    {
      "cell_type": "code",
      "source": [
        "from Sastrawi.StopWordRemover.StopWordRemoverFactory import StopWordRemoverFactory\n",
        "factory = StopWordRemoverFactory()\n",
        "stopwords = factory.get_stop_words()\n",
        "print(stopwords)"
      ],
      "metadata": {
        "id": "qwUAGxlX_6gU",
        "colab": {
          "base_uri": "https://localhost:8080/"
        },
        "outputId": "b68dcfe8-9fd3-40c1-cc9a-2078e44d28a9"
      },
      "execution_count": null,
      "outputs": [
        {
          "output_type": "stream",
          "name": "stdout",
          "text": [
            "['yang', 'untuk', 'pada', 'ke', 'para', 'namun', 'menurut', 'antara', 'dia', 'dua', 'ia', 'seperti', 'jika', 'jika', 'sehingga', 'kembali', 'dan', 'tidak', 'ini', 'karena', 'kepada', 'oleh', 'saat', 'harus', 'sementara', 'setelah', 'belum', 'kami', 'sekitar', 'bagi', 'serta', 'di', 'dari', 'telah', 'sebagai', 'masih', 'hal', 'ketika', 'adalah', 'itu', 'dalam', 'bisa', 'bahwa', 'atau', 'hanya', 'kita', 'dengan', 'akan', 'juga', 'ada', 'mereka', 'sudah', 'saya', 'terhadap', 'secara', 'agar', 'lain', 'anda', 'begitu', 'mengapa', 'kenapa', 'yaitu', 'yakni', 'daripada', 'itulah', 'lagi', 'maka', 'tentang', 'demi', 'dimana', 'kemana', 'pula', 'sambil', 'sebelum', 'sesudah', 'supaya', 'guna', 'kah', 'pun', 'sampai', 'sedangkan', 'selagi', 'sementara', 'tetapi', 'apakah', 'kecuali', 'sebab', 'selain', 'seolah', 'seraya', 'seterusnya', 'tanpa', 'agak', 'boleh', 'dapat', 'dsb', 'dst', 'dll', 'dahulu', 'dulunya', 'anu', 'demikian', 'tapi', 'ingin', 'juga', 'nggak', 'mari', 'nanti', 'melainkan', 'oh', 'ok', 'seharusnya', 'sebetulnya', 'setiap', 'setidaknya', 'sesuatu', 'pasti', 'saja', 'toh', 'ya', 'walau', 'tolong', 'tentu', 'amat', 'apalagi', 'bagaimanapun']\n"
          ]
        }
      ]
    },
    {
      "cell_type": "code",
      "source": [
        "from Sastrawi.StopWordRemover.StopWordRemoverFactory import StopWordRemoverFactory\n",
        "factory = StopWordRemoverFactory()\n",
        "stopword = factory.create_stop_word_remover()\n",
        "# Kalimat\n",
        "kalimat = \"Enak mie ayamnya. Jeruk hangat dan mendoannya juga mantul serta harga bersahabat banget. Pilihan tepat buat yang mau jajan enak tapi tetep irit.\"\n",
        "stop = stopword.remove(kalimat)\n",
        "print(stop)"
      ],
      "metadata": {
        "id": "00t_JOpyFq1e",
        "colab": {
          "base_uri": "https://localhost:8080/"
        },
        "outputId": "97a8c24a-13bb-415b-c1d4-6043392b67df"
      },
      "execution_count": null,
      "outputs": [
        {
          "output_type": "stream",
          "name": "stdout",
          "text": [
            "Enak mie ayamnya. Jeruk hangat mendoannya mantul harga bersahabat banget. Pilihan tepat buat mau jajan enak tetep irit.\n"
          ]
        }
      ]
    },
    {
      "cell_type": "code",
      "source": [
        "## ----- STEMMING ----- ##"
      ],
      "metadata": {
        "id": "qWbpG6dsD5A9"
      },
      "execution_count": null,
      "outputs": []
    },
    {
      "cell_type": "code",
      "source": [
        "# Menggunakan Sastrawati\n",
        "!pip install Sastrawi\n",
        "# Library Untuk Stramming/Strammer Bahasa Indonesia"
      ],
      "metadata": {
        "id": "tJ-I1ehwEa56",
        "colab": {
          "base_uri": "https://localhost:8080/"
        },
        "outputId": "55e726f7-dcc5-4af8-844d-c758cd4fb955"
      },
      "execution_count": null,
      "outputs": [
        {
          "output_type": "stream",
          "name": "stdout",
          "text": [
            "Looking in indexes: https://pypi.org/simple, https://us-python.pkg.dev/colab-wheels/public/simple/\n",
            "Requirement already satisfied: Sastrawi in /usr/local/lib/python3.7/dist-packages (1.0.1)\n"
          ]
        }
      ]
    },
    {
      "cell_type": "code",
      "source": [
        "# import StemmerFactory class\n",
        "from Sastrawi.Stemmer.StemmerFactory import StemmerFactory# create stemmer\n",
        "factory = StemmerFactory()\n",
        "stemmer = factory.create_stemmer()# stemming process\n",
        "sentence = 'Enak mie ayamnya. Jeruk hangat dan mendoannya juga mantul. Harga bersahabat banget. Pilihan tepat buat yang mau jajan enak tapi tetep irit.'\n",
        "output   = stemmer.stem(sentence)\n",
        "print(output)"
      ],
      "metadata": {
        "id": "NSK-ial8Eirm",
        "colab": {
          "base_uri": "https://localhost:8080/"
        },
        "outputId": "59e2f170-1714-4935-ac79-e0a4fee58f9c"
      },
      "execution_count": null,
      "outputs": [
        {
          "output_type": "stream",
          "name": "stdout",
          "text": [
            "enak mie ayam jeruk hangat dan mendoan juga mantul harga sahabat banget pilih tepat buat yang mau jajan enak tapi tetep irit\n"
          ]
        }
      ]
    }
  ]
}